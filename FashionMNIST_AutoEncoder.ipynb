{
 "cells": [
  {
   "cell_type": "markdown",
   "metadata": {},
   "source": [
    "## FASHION MNIST - AUTOENCODER"
   ]
  },
  {
   "cell_type": "code",
   "execution_count": 1,
   "metadata": {
    "collapsed": true
   },
   "outputs": [],
   "source": [
    "import mnist\n",
    "from sklearn.feature_extraction.text import TfidfVectorizer\n",
    "from sklearn import tree\n",
    "import matplotlib.pyplot as plt\n",
    "%matplotlib inline\n",
    "import numpy as np\n",
    "from sklearn import datasets\n",
    "import mnist\n",
    "import tensorflow as tf\n",
    "from sklearn.preprocessing import OneHotEncoder\n",
    "import random\n"
   ]
  },
  {
   "cell_type": "markdown",
   "metadata": {},
   "source": [
    "## Loading the data"
   ]
  },
  {
   "cell_type": "code",
   "execution_count": 2,
   "metadata": {},
   "outputs": [
    {
     "name": "stderr",
     "output_type": "stream",
     "text": [
      "C:\\ProgramData\\Anaconda3\\lib\\site-packages\\h5py\\__init__.py:34: FutureWarning: Conversion of the second argument of issubdtype from `float` to `np.floating` is deprecated. In future, it will be treated as `np.float64 == np.dtype(float).type`.\n",
      "  from ._conv import register_converters as _register_converters\n"
     ]
    },
    {
     "name": "stdout",
     "output_type": "stream",
     "text": [
      "Extracting C:/Unsupervised/Datasets/fashionmnist\\train-images-idx3-ubyte.gz\n",
      "Extracting C:/Unsupervised/Datasets/fashionmnist\\train-labels-idx1-ubyte.gz\n",
      "Extracting C:/Unsupervised/Datasets/fashionmnist\\t10k-images-idx3-ubyte.gz\n",
      "Extracting C:/Unsupervised/Datasets/fashionmnist\\t10k-labels-idx1-ubyte.gz\n"
     ]
    },
    {
     "data": {
      "text/plain": [
       "((55000, 784), (55000, 10), (10000, 784), (10000, 10))"
      ]
     },
     "execution_count": 2,
     "metadata": {},
     "output_type": "execute_result"
    }
   ],
   "source": [
    "from tensorflow.examples.tutorials.mnist import input_data\n",
    "data = input_data.read_data_sets('C:/Unsupervised/Datasets/fashionmnist')\n",
    "\n",
    "# Loading Train data\n",
    "X_train = data.train.images\n",
    "Y_train = data.train.labels\n",
    "# Loading Test Data\n",
    "X_test = data.test.images\n",
    "Y_test= data.test.labels\n",
    "\n",
    "Y_train = np.eye(10)[data.train.labels]\n",
    "Y_test = np.eye(10)[data.test.labels]\n",
    "\n",
    "X_train.shape, Y_train.shape, X_test.shape,Y_test.shape"
   ]
  },
  {
   "cell_type": "markdown",
   "metadata": {},
   "source": [
    "##  Classification Task - building the Decision Tree Model"
   ]
  },
  {
   "cell_type": "code",
   "execution_count": 3,
   "metadata": {},
   "outputs": [
    {
     "name": "stdout",
     "output_type": "stream",
     "text": [
      "Train Accuracy using Decision Trees: 1.0\n",
      "Test Accuracy using Decision Trees: 0.7915\n"
     ]
    }
   ],
   "source": [
    "clf = tree.DecisionTreeClassifier()\n",
    "clf.fit(X_train,Y_train)\n",
    "#Accuracy on test data\n",
    "print(\"Train Accuracy using Decision Trees:\",clf.score(X_train,Y_train))\n",
    "#Accuracy on test data\n",
    "print(\"Test Accuracy using Decision Trees:\",clf.score(X_test,Y_test))"
   ]
  },
  {
   "cell_type": "markdown",
   "metadata": {},
   "source": [
    "#### Network Parameters\n",
    "#### K = 20\n",
    "\n"
   ]
  },
  {
   "cell_type": "code",
   "execution_count": 4,
   "metadata": {
    "collapsed": true
   },
   "outputs": [],
   "source": [
    "inputs = 784\n",
    "hidden_layer1_units = 20\n",
    "output_layer_units = inputs\n"
   ]
  },
  {
   "cell_type": "code",
   "execution_count": 5,
   "metadata": {},
   "outputs": [
    {
     "data": {
      "text/plain": [
       "20"
      ]
     },
     "execution_count": 5,
     "metadata": {},
     "output_type": "execute_result"
    }
   ],
   "source": [
    "hidden_layer1_units"
   ]
  },
  {
   "cell_type": "markdown",
   "metadata": {},
   "source": [
    "#### Placeholder to pass data to the feed below.\n",
    "#### Input Tensor\n",
    "\n"
   ]
  },
  {
   "cell_type": "code",
   "execution_count": 6,
   "metadata": {
    "collapsed": true
   },
   "outputs": [],
   "source": [
    "\n",
    "X = tf.placeholder(tf.float32, shape = [None, inputs])#flattened shape"
   ]
  },
  {
   "cell_type": "markdown",
   "metadata": {},
   "source": [
    "### Storing the Weights & Biases\n",
    "##### Each node is multiplied by a weight. Every node has a weight value, and during the training phase the neural network adjusts these values in order to produce a correct output.\n",
    "\n",
    "#### In addition to multiplying each input node by a weight, the network also adds a bias.\n",
    "\n",
    "#### After multiplying the inputs by weights and sum the values to the bias,the data passes an activation function, in our case the sigmoid function."
   ]
  },
  {
   "cell_type": "code",
   "execution_count": 7,
   "metadata": {
    "collapsed": true
   },
   "outputs": [],
   "source": [
    "tf.set_random_seed(42)\n",
    "W = {\n",
    "    'encoder_h1': tf.Variable(tf.random_normal([inputs, hidden_layer1_units])),\n",
    "    'decoder_h1':tf.Variable(tf.random_normal([hidden_layer1_units, output_layer_units]))\n",
    "}\n",
    "\n",
    "B = {\n",
    "    'encoder_h1':tf.Variable(tf.random_normal([hidden_layer1_units])),\n",
    "    'decoder_h1':tf.Variable(tf.random_normal([output_layer_units]))\n",
    "}\n",
    "\n",
    "# encoder\n",
    "encoder = tf.matmul(X,W['encoder_h1']) +  B['encoder_h1']\n",
    "encoder = tf.sigmoid(encoder) \n",
    "\n",
    "#decoder\n",
    "decoder = tf.matmul(encoder,W['decoder_h1'])  + B['decoder_h1']\n",
    "decoder = tf.sigmoid(decoder) # using sigmoid activation"
   ]
  },
  {
   "cell_type": "markdown",
   "metadata": {
    "collapsed": true
   },
   "source": [
    "#### Setting parameters:\n",
    "#### epoch - one forward pass (getting the output values)  and one backward pass (updating the weights) of all the training examples\n",
    "#### learning rate - determines the incremental steps of values to find the best weight values."
   ]
  },
  {
   "cell_type": "code",
   "execution_count": 8,
   "metadata": {
    "collapsed": true
   },
   "outputs": [],
   "source": [
    "epochs = 10\n",
    "batch_size = 256\n",
    "learning_rate = 0.01 "
   ]
  },
  {
   "cell_type": "markdown",
   "metadata": {},
   "source": [
    "#### Loss function : - Comparing the output values with the input values. Computing the loss, by calculating the mean error between reconstructed X and original inputs.\n",
    "#### Optimizer : - To find the best values for the weights and biases in order to minimize the output error, We will use gradient descent, specifically Adaptive Moment Estimation(Adam). The AdamOptimizer method computes gradients (loss) and updates the tf.Variables with the new values."
   ]
  },
  {
   "cell_type": "code",
   "execution_count": 9,
   "metadata": {
    "collapsed": true
   },
   "outputs": [],
   "source": [
    "Y = X\n",
    "loss = tf.reduce_mean(tf.pow(decoder - Y, 2))\n",
    "optimizer = tf.train.AdamOptimizer(learning_rate=learning_rate).minimize(loss)"
   ]
  },
  {
   "cell_type": "markdown",
   "metadata": {},
   "source": [
    "### Evaluation:"
   ]
  },
  {
   "cell_type": "code",
   "execution_count": 10,
   "metadata": {
    "collapsed": true
   },
   "outputs": [],
   "source": [
    "def get_batches(batch_size,x):\n",
    "        indexes = list(range(x.shape[0]))\n",
    "        random.shuffle(indexes)\n",
    "        ind = indexes[:batch_size]\n",
    "        return(x[ind])"
   ]
  },
  {
   "cell_type": "markdown",
   "metadata": {},
   "source": [
    "##### Launch the graph\n"
   ]
  },
  {
   "cell_type": "code",
   "execution_count": 11,
   "metadata": {},
   "outputs": [
    {
     "name": "stdout",
     "output_type": "stream",
     "text": [
      "\n",
      " Epoch: 1 \t Average Training Error: 0.05286894888558891\n",
      "\n",
      " Test Error 0.052634463\n",
      "\n",
      " Epoch: 2 \t Average Training Error: 0.043013297821744345\n",
      "\n",
      " Test Error 0.04217913\n",
      "\n",
      " Epoch: 3 \t Average Training Error: 0.03903740050736815\n",
      "\n",
      " Test Error 0.038520794\n",
      "\n",
      " Epoch: 4 \t Average Training Error: 0.035330532482475974\n",
      "\n",
      " Test Error 0.036298685\n",
      "\n",
      " Epoch: 5 \t Average Training Error: 0.03360310310381465\n",
      "\n",
      " Test Error 0.034827292\n",
      "\n",
      " Epoch: 6 \t Average Training Error: 0.03247619514877442\n",
      "\n",
      " Test Error 0.033737622\n",
      "\n",
      " Epoch: 7 \t Average Training Error: 0.03455636644503102\n",
      "\n",
      " Test Error 0.03303841\n",
      "\n",
      " Epoch: 8 \t Average Training Error: 0.030569969523639884\n",
      "\n",
      " Test Error 0.032309942\n",
      "\n",
      " Epoch: 9 \t Average Training Error: 0.02993757155491039\n",
      "\n",
      " Test Error 0.031255454\n",
      "\n",
      " Epoch: 10 \t Average Training Error: 0.02952155337698059\n",
      "\n",
      " Test Error 0.030435164\n"
     ]
    }
   ],
   "source": [
    "with tf.Session() as sess:\n",
    "    sess.run(tf.global_variables_initializer())\n",
    "    for epoch in range(epochs):\n",
    "        train_c = 0                                                       \n",
    "        total_batch = int(X_train.shape[0]/batch_size)  \n",
    "        # Loop over all batches        \n",
    "        for i in range(total_batch):\n",
    "            batch_x = get_batches(batch_size, X_train)\n",
    "            # pass optimization step and loss calculation\n",
    "            # feed_dict parameter is where we pass the data for each run step.\n",
    "            _,train_c = sess.run([optimizer, loss], feed_dict = {X: batch_x})\n",
    "            train_c += train_c/batch_size    \n",
    "        #if epoch % 5 == 0:\n",
    "        print(\"\\n Epoch:\",epoch+1,\"\\t Average Training Error:\",train_c)  \n",
    "        test_c = sess.run(loss,feed_dict = {X:X_test})\n",
    "        print(\"\\n Test Error\", test_c)    \n",
    "    encoder_train, decoder_train = sess.run([encoder,decoder],feed_dict = {X:X_train})\n",
    "    encoder_test, decoder_test = sess.run([encoder,decoder],feed_dict = {X:X_test}) "
   ]
  },
  {
   "cell_type": "code",
   "execution_count": 12,
   "metadata": {},
   "outputs": [
    {
     "data": {
      "text/plain": [
       "((55000, 20), (10000, 20))"
      ]
     },
     "execution_count": 12,
     "metadata": {},
     "output_type": "execute_result"
    }
   ],
   "source": [
    "# Hidden Layer \n",
    "encoder_train.shape, encoder_test.shape"
   ]
  },
  {
   "cell_type": "code",
   "execution_count": 13,
   "metadata": {},
   "outputs": [
    {
     "data": {
      "text/plain": [
       "((55000, 784), (10000, 784))"
      ]
     },
     "execution_count": 13,
     "metadata": {},
     "output_type": "execute_result"
    }
   ],
   "source": [
    "# Reconstructed Inputs\n",
    "decoder_train.shape, decoder_test.shape"
   ]
  },
  {
   "cell_type": "code",
   "execution_count": 14,
   "metadata": {},
   "outputs": [
    {
     "data": {
      "text/plain": [
       "<matplotlib.image.AxesImage at 0x1e5a9b4a3c8>"
      ]
     },
     "execution_count": 14,
     "metadata": {},
     "output_type": "execute_result"
    },
    {
     "data": {
      "image/png": "[encoded data removed]",
      "text/plain": [
       "<matplotlib.figure.Figure at 0x1e5a98872b0>"
      ]
     },
     "metadata": {},
     "output_type": "display_data"
    }
   ],
   "source": [
    "# reconstructing the image from the decoded train data.\n",
    "i = 45\n",
    "plt.subplot(1,2,1)\n",
    "plt.title(\"Original Image\")\n",
    "plt.imshow(X_train[i].reshape(28,28))\n",
    "plt.subplot(1,2,2)\n",
    "plt.title(\" Reconstructed Image from Decoder output\")\n",
    "img = decoder_train[i].reshape(28,28)\n",
    "plt.imshow(img)"
   ]
  },
  {
   "cell_type": "code",
   "execution_count": 15,
   "metadata": {},
   "outputs": [
    {
     "data": {
      "text/plain": [
       "<matplotlib.image.AxesImage at 0x1e5a9c01390>"
      ]
     },
     "execution_count": 15,
     "metadata": {},
     "output_type": "execute_result"
    },
    {
     "data": {
      "image/png": "[encoded data removed]",
      "text/plain": [
       "<matplotlib.figure.Figure at 0x1e5a9ae8e10>"
      ]
     },
     "metadata": {},
     "output_type": "display_data"
    }
   ],
   "source": [
    "# reconstructing the image from the decoded test data.\n",
    "i = 2\n",
    "plt.subplot(1,2,1)\n",
    "plt.title(\"Original Image\")\n",
    "plt.imshow(X_test[i].reshape(28,28))\n",
    "plt.subplot(1,2,2)\n",
    "plt.title(\" Reconstructed Image from Decoder output\")\n",
    "img = decoder_test[i].reshape(28,28)\n",
    "plt.imshow(img)"
   ]
  },
  {
   "cell_type": "markdown",
   "metadata": {},
   "source": [
    "#### We can next use the K =20 (reduced dimensions) from the encoder, to build a classifier"
   ]
  },
  {
   "cell_type": "code",
   "execution_count": 16,
   "metadata": {},
   "outputs": [
    {
     "name": "stdout",
     "output_type": "stream",
     "text": [
      "Train Accuracy using Decision Trees: 1.0\n",
      "Test Accuracy using Decision Trees: 0.6988\n"
     ]
    }
   ],
   "source": [
    "#Building the Decision Tree Model\n",
    "clf = tree.DecisionTreeClassifier()\n",
    "clf.fit(encoder_train,Y_train)\n",
    "\n",
    "#Accuracy on Train data\n",
    "print(\"Train Accuracy using Decision Trees:\",clf.score(encoder_train,Y_train))\n",
    "\n",
    "#Accuracy on Test data\n",
    "print(\"Test Accuracy using Decision Trees:\",clf.score(encoder_test,Y_test))\n"
   ]
  },
  {
   "cell_type": "markdown",
   "metadata": {
    "collapsed": true
   },
   "source": [
    "## Now, we repeat the above exercise for K = 5"
   ]
  },
  {
   "cell_type": "code",
   "execution_count": 17,
   "metadata": {},
   "outputs": [
    {
     "name": "stdout",
     "output_type": "stream",
     "text": [
      "\n",
      " Epoch: 1 \t Average Training Error: 0.08912430694908835\n",
      "\n",
      " Test Error 0.08421893\n",
      "\n",
      " Epoch: 2 \t Average Training Error: 0.06583397582289763\n",
      "\n",
      " Test Error 0.06431749\n",
      "\n",
      " Epoch: 3 \t Average Training Error: 0.05610080459155142\n",
      "\n",
      " Test Error 0.05587248\n",
      "\n",
      " Epoch: 4 \t Average Training Error: 0.04931621097784955\n",
      "\n",
      " Test Error 0.05072635\n",
      "\n",
      " Epoch: 5 \t Average Training Error: 0.04950879415264353\n",
      "\n",
      " Test Error 0.048774008\n",
      "\n",
      " Epoch: 6 \t Average Training Error: 0.04682505720120389\n",
      "\n",
      " Test Error 0.04766573\n",
      "\n",
      " Epoch: 7 \t Average Training Error: 0.0478960432956228\n",
      "\n",
      " Test Error 0.046767145\n",
      "\n",
      " Epoch: 8 \t Average Training Error: 0.04697847674833611\n",
      "\n",
      " Test Error 0.046339776\n",
      "\n",
      " Epoch: 9 \t Average Training Error: 0.04505110792524647\n",
      "\n",
      " Test Error 0.045886435\n",
      "\n",
      " Epoch: 10 \t Average Training Error: 0.048051444959128276\n",
      "\n",
      " Test Error 0.045556325\n"
     ]
    }
   ],
   "source": [
    "inputs = 784\n",
    "hidden_layer1_units = 5\n",
    "output_layer_units = inputs\n",
    "epochs = 10\n",
    "batch_size = 256\n",
    "learning_rate = 0.01\n",
    "\n",
    "X_5 = tf.placeholder(tf.float32, shape=[None, inputs])\n",
    "\n",
    "tf.set_random_seed(42)\n",
    "W_5 = {\n",
    "    'encoder_h1': tf.Variable(tf.random_normal([inputs, hidden_layer1_units])),\n",
    "    'decoder_h1': tf.Variable(tf.random_normal([hidden_layer1_units, output_layer_units]))\n",
    "}\n",
    "\n",
    "B_5 = {\n",
    "    'encoder_h1': tf.Variable(tf.random_normal([hidden_layer1_units])),\n",
    "    'decoder_h1': tf.Variable(tf.random_normal([output_layer_units]))\n",
    "}\n",
    "\n",
    "encoder_5 = tf.matmul(X_5, W_5['encoder_h1']) + B_5['encoder_h1']\n",
    "encoder_5 = tf.sigmoid(encoder_5)\n",
    "decoder_5 = tf.matmul(encoder_5, W_5['decoder_h1']) + B_5['decoder_h1']\n",
    "decoder_5 = tf.sigmoid(decoder_5)\n",
    "\n",
    "Y_5 = X_5\n",
    "loss = tf.reduce_mean(tf.pow(decoder_5 - Y_5, 2))\n",
    "optimizer = tf.train.AdamOptimizer(learning_rate=learning_rate).minimize(loss)\n",
    "\n",
    "\n",
    "def get_batches(batch_size, x):\n",
    "    indexes = list(range(x.shape[0]))\n",
    "    random.shuffle(indexes)\n",
    "    ind = indexes[:batch_size]\n",
    "    return (x[ind])\n",
    "\n",
    "\n",
    "with tf.Session() as sess:\n",
    "    sess.run(tf.global_variables_initializer())\n",
    "    for epoch in range(epochs):\n",
    "        train_c = 0\n",
    "        total_batch = int(X_train.shape[0] / batch_size)\n",
    "        for i in range(total_batch):\n",
    "            batch_x = get_batches(batch_size, X_train)\n",
    "            _, train_c = sess.run([optimizer, loss], feed_dict={X_5: batch_x})\n",
    "            train_c += train_c / batch_size\n",
    "        # if epoch % 5 == 0:\n",
    "        print(\"\\n Epoch:\", epoch + 1, \"\\t Average Training Error:\", train_c)\n",
    "        test_c = sess.run(loss, feed_dict={X_5: X_test})\n",
    "        print(\"\\n Test Error\", test_c)\n",
    "    encoder_train_5, decoder_train_5 = sess.run([encoder_5, decoder_5], feed_dict={X_5: X_train})\n",
    "    encoder_test_5, decoder_test_5 = sess.run([encoder_5, decoder_5], feed_dict={X_5: X_test}) \n"
   ]
  },
  {
   "cell_type": "code",
   "execution_count": 18,
   "metadata": {},
   "outputs": [
    {
     "data": {
      "text/plain": [
       "((55000, 5), (10000, 5))"
      ]
     },
     "execution_count": 18,
     "metadata": {},
     "output_type": "execute_result"
    }
   ],
   "source": [
    "# Hidden Layer \n",
    "\n",
    "encoder_train_5.shape, encoder_test_5.shape"
   ]
  },
  {
   "cell_type": "code",
   "execution_count": 19,
   "metadata": {},
   "outputs": [
    {
     "data": {
      "text/plain": [
       "((55000, 784), (10000, 784))"
      ]
     },
     "execution_count": 19,
     "metadata": {},
     "output_type": "execute_result"
    }
   ],
   "source": [
    "# Reconstructed Inputs \n",
    "\n",
    "decoder_train_5.shape, decoder_test_5.shape"
   ]
  },
  {
   "cell_type": "code",
   "execution_count": 20,
   "metadata": {},
   "outputs": [
    {
     "data": {
      "text/plain": [
       "<matplotlib.image.AxesImage at 0x1e5aa01cda0>"
      ]
     },
     "execution_count": 20,
     "metadata": {},
     "output_type": "execute_result"
    },
    {
     "data": {
      "image/png": "[encoded data removed]",
      "text/plain": [
       "<matplotlib.figure.Figure at 0x1e5a9bddcc0>"
      ]
     },
     "metadata": {},
     "output_type": "display_data"
    }
   ],
   "source": [
    "# reconstructing the image from the decoded train data.\n",
    "i = 45\n",
    "plt.subplot(1,2,1)\n",
    "plt.title(\"Original Image\")\n",
    "plt.imshow(X_train[i].reshape(28,28))\n",
    "plt.subplot(1,2,2)\n",
    "plt.title(\" Reconstructed Image from Decoder output\")\n",
    "img = decoder_train_5[i].reshape(28,28)\n",
    "plt.imshow(img)"
   ]
  },
  {
   "cell_type": "code",
   "execution_count": 21,
   "metadata": {},
   "outputs": [
    {
     "data": {
      "text/plain": [
       "<matplotlib.image.AxesImage at 0x1e5ad2d6518>"
      ]
     },
     "execution_count": 21,
     "metadata": {},
     "output_type": "execute_result"
    },
    {
     "data": {
      "image/png": "[encoded data removed]",
      "text/plain": [
       "<matplotlib.figure.Figure at 0x1e5a9fef668>"
      ]
     },
     "metadata": {},
     "output_type": "display_data"
    }
   ],
   "source": [
    "# reconstructing the image from the decoded test data.\n",
    "i = 2\n",
    "plt.subplot(1,2,1)\n",
    "plt.title(\"Original Image\")\n",
    "plt.imshow(X_test[i].reshape(28,28))\n",
    "plt.subplot(1,2,2)\n",
    "plt.title(\" Reconstructed Image from Decoder output\")\n",
    "img = decoder_test_5[i].reshape(28,28)\n",
    "plt.imshow(img)"
   ]
  },
  {
   "cell_type": "code",
   "execution_count": 22,
   "metadata": {},
   "outputs": [
    {
     "name": "stdout",
     "output_type": "stream",
     "text": [
      "Train Accuracy using Decision Trees: 1.0\n",
      "Test Accuracy using Decision Trees: 0.4843\n"
     ]
    }
   ],
   "source": [
    "clf = tree.DecisionTreeClassifier()\n",
    "clf.fit(encoder_train_5,Y_train)\n",
    "\n",
    "#Accuracy on Train data\n",
    "print(\"Train Accuracy using Decision Trees:\",clf.score(encoder_train_5,Y_train))\n",
    "\n",
    "#Accuracy on Test data\n",
    "print(\"Test Accuracy using Decision Trees:\",clf.score(encoder_test_5,Y_test))"
   ]
  },
  {
   "cell_type": "markdown",
   "metadata": {},
   "source": [
    "## Now, we repeat the above exercise for K = 10"
   ]
  },
  {
   "cell_type": "code",
   "execution_count": 23,
   "metadata": {},
   "outputs": [
    {
     "name": "stdout",
     "output_type": "stream",
     "text": [
      "\n",
      " Epoch: 1 \t Average Training Error: 0.0678900737548247\n",
      "\n",
      " Test Error 0.067908876\n",
      "\n",
      " Epoch: 2 \t Average Training Error: 0.051538922620238736\n",
      "\n",
      " Test Error 0.052919034\n",
      "\n",
      " Epoch: 3 \t Average Training Error: 0.045722065537120216\n",
      "\n",
      " Test Error 0.047228925\n",
      "\n",
      " Epoch: 4 \t Average Training Error: 0.04331662146432791\n",
      "\n",
      " Test Error 0.045418754\n",
      "\n",
      " Epoch: 5 \t Average Training Error: 0.04476446023909375\n",
      "\n",
      " Test Error 0.0436683\n",
      "\n",
      " Epoch: 6 \t Average Training Error: 0.04237671309965663\n",
      "\n",
      " Test Error 0.042606354\n",
      "\n",
      " Epoch: 7 \t Average Training Error: 0.04198168852599338\n",
      "\n",
      " Test Error 0.04183152\n",
      "\n",
      " Epoch: 8 \t Average Training Error: 0.04293537820922211\n",
      "\n",
      " Test Error 0.04086254\n",
      "\n",
      " Epoch: 9 \t Average Training Error: 0.038456236507045105\n",
      "\n",
      " Test Error 0.039057318\n",
      "\n",
      " Epoch: 10 \t Average Training Error: 0.03922496107406914\n",
      "\n",
      " Test Error 0.03742014\n"
     ]
    }
   ],
   "source": [
    "inputs = 784\n",
    "hidden_layer1_units = 10\n",
    "output_layer_units = inputs\n",
    "epochs = 10\n",
    "batch_size = 256\n",
    "learning_rate = 0.01\n",
    "\n",
    "X_10 = tf.placeholder(tf.float32, shape=[None, inputs])\n",
    "\n",
    "tf.set_random_seed(42)\n",
    "W_10 = {\n",
    "    'encoder_h1': tf.Variable(tf.random_normal([inputs, hidden_layer1_units])),\n",
    "    'decoder_h1': tf.Variable(tf.random_normal([hidden_layer1_units, output_layer_units]))\n",
    "}\n",
    "\n",
    "B_10 = {\n",
    "    'encoder_h1': tf.Variable(tf.random_normal([hidden_layer1_units])),\n",
    "    'decoder_h1': tf.Variable(tf.random_normal([output_layer_units]))\n",
    "}\n",
    "\n",
    "encoder_10 = tf.matmul(X_10, W_10['encoder_h1']) + B_10['encoder_h1']\n",
    "encoder_10 = tf.sigmoid(encoder_10)\n",
    "decoder_10 = tf.matmul(encoder_10, W_10['decoder_h1']) + B_10['decoder_h1']\n",
    "decoder_10 = tf.sigmoid(decoder_10)\n",
    "\n",
    "Y_10 = X_10\n",
    "loss = tf.reduce_mean(tf.pow(decoder_10 - Y_10, 2))\n",
    "optimizer = tf.train.AdamOptimizer(learning_rate=learning_rate).minimize(loss)\n",
    "\n",
    "\n",
    "def get_batches(batch_size, x):\n",
    "    indexes = list(range(x.shape[0]))\n",
    "    random.shuffle(indexes)\n",
    "    ind = indexes[:batch_size]\n",
    "    return (x[ind])\n",
    "\n",
    "\n",
    "with tf.Session() as sess:\n",
    "    sess.run(tf.global_variables_initializer())\n",
    "    for epoch in range(epochs):\n",
    "        train_c = 0\n",
    "        total_batch = int(X_train.shape[0] / batch_size)\n",
    "        for i in range(total_batch):\n",
    "            batch_x = get_batches(batch_size, X_train)\n",
    "            _, train_c = sess.run([optimizer, loss], feed_dict={X_10: batch_x})\n",
    "            train_c += train_c / batch_size\n",
    "        # if epoch % 5 == 0:\n",
    "        print(\"\\n Epoch:\", epoch + 1, \"\\t Average Training Error:\", train_c)\n",
    "        test_c = sess.run(loss, feed_dict={X_10: X_test})\n",
    "        print(\"\\n Test Error\", test_c)\n",
    "    encoder_train_10, decoder_train_10 = sess.run([encoder_10, decoder_10], feed_dict={X_10: X_train})\n",
    "    encoder_test_10, decoder_test_10 = sess.run([encoder_10, decoder_10], feed_dict={X_10: X_test})\n"
   ]
  },
  {
   "cell_type": "code",
   "execution_count": 24,
   "metadata": {},
   "outputs": [
    {
     "data": {
      "text/plain": [
       "((55000, 10), (10000, 10))"
      ]
     },
     "execution_count": 24,
     "metadata": {},
     "output_type": "execute_result"
    }
   ],
   "source": [
    "# Hidden Layer  \n",
    "\n",
    "encoder_train_10.shape, encoder_test_10.shape"
   ]
  },
  {
   "cell_type": "code",
   "execution_count": 25,
   "metadata": {},
   "outputs": [
    {
     "data": {
      "text/plain": [
       "((55000, 784), (10000, 784))"
      ]
     },
     "execution_count": 25,
     "metadata": {},
     "output_type": "execute_result"
    }
   ],
   "source": [
    "# Reconstructed Inputs\n",
    "decoder_train_10.shape, decoder_test_10.shape"
   ]
  },
  {
   "cell_type": "code",
   "execution_count": 26,
   "metadata": {},
   "outputs": [
    {
     "data": {
      "text/plain": [
       "<matplotlib.image.AxesImage at 0x1e5ad55efd0>"
      ]
     },
     "execution_count": 26,
     "metadata": {},
     "output_type": "execute_result"
    },
    {
     "data": {
      "image/png": "[encoded data removed]",
      "text/plain": [
       "<matplotlib.figure.Figure at 0x1e5ad2b36a0>"
      ]
     },
     "metadata": {},
     "output_type": "display_data"
    }
   ],
   "source": [
    "# reconstructing the image from the decoded train data.\n",
    "i = 45\n",
    "plt.subplot(1,2,1)\n",
    "plt.title(\"Original Image\")\n",
    "plt.imshow(X_train[i].reshape(28,28))\n",
    "plt.subplot(1,2,2)\n",
    "plt.title(\" Reconstructed Image from Decoder output\")\n",
    "img = decoder_train_10[i].reshape(28,28)\n",
    "plt.imshow(img)"
   ]
  },
  {
   "cell_type": "code",
   "execution_count": 27,
   "metadata": {},
   "outputs": [
    {
     "data": {
      "text/plain": [
       "<matplotlib.image.AxesImage at 0x1e5ae4b0c88>"
      ]
     },
     "execution_count": 27,
     "metadata": {},
     "output_type": "execute_result"
    },
    {
     "data": {
      "image/png": "[encoded data removed]",
      "text/plain": [
       "<matplotlib.figure.Figure at 0x1e5ad30ce80>"
      ]
     },
     "metadata": {},
     "output_type": "display_data"
    }
   ],
   "source": [
    "# reconstructing the image from the decoded test data.\n",
    "i = 2\n",
    "plt.subplot(1,2,1)\n",
    "plt.title(\"Original Image\")\n",
    "plt.imshow(X_test[i].reshape(28,28))\n",
    "plt.subplot(1,2,2)\n",
    "plt.title(\" Reconstructed Image from Decoder output\")\n",
    "img = decoder_test_10[i].reshape(28,28)\n",
    "plt.imshow(img)"
   ]
  },
  {
   "cell_type": "code",
   "execution_count": 28,
   "metadata": {},
   "outputs": [
    {
     "name": "stdout",
     "output_type": "stream",
     "text": [
      "Train Accuracy using Decision Trees: 1.0\n",
      "Test Accuracy using Decision Trees: 0.6209\n"
     ]
    }
   ],
   "source": [
    "clf = tree.DecisionTreeClassifier()\n",
    "clf.fit(encoder_train_10,Y_train)\n",
    "\n",
    "#Accuracy on Train data\n",
    "print(\"Train Accuracy using Decision Trees:\",clf.score(encoder_train_10,Y_train))\n",
    "\n",
    "#Accuracy on Test data\n",
    "print(\"Test Accuracy using Decision Trees:\",clf.score(encoder_test_10,Y_test))"
   ]
  },
  {
   "cell_type": "markdown",
   "metadata": {},
   "source": [
    "## Now, we repeat the above exercise for K = 100"
   ]
  },
  {
   "cell_type": "code",
   "execution_count": 29,
   "metadata": {},
   "outputs": [
    {
     "name": "stdout",
     "output_type": "stream",
     "text": [
      "\n",
      " Epoch: 1 \t Average Training Error: 0.050833240573410876\n",
      "\n",
      " Test Error 0.05380938\n",
      "\n",
      " Epoch: 2 \t Average Training Error: 0.04165712257963605\n",
      "\n",
      " Test Error 0.039833378\n",
      "\n",
      " Epoch: 3 \t Average Training Error: 0.03559961412975099\n",
      "\n",
      " Test Error 0.033842392\n",
      "\n",
      " Epoch: 4 \t Average Training Error: 0.028011079724819865\n",
      "\n",
      " Test Error 0.0293479\n",
      "\n",
      " Epoch: 5 \t Average Training Error: 0.02693423890741542\n",
      "\n",
      " Test Error 0.026655713\n",
      "\n",
      " Epoch: 6 \t Average Training Error: 0.024602176148619037\n",
      "\n",
      " Test Error 0.025266828\n",
      "\n",
      " Epoch: 7 \t Average Training Error: 0.024502887077687774\n",
      "\n",
      " Test Error 0.024720853\n",
      "\n",
      " Epoch: 8 \t Average Training Error: 0.022161177395901177\n",
      "\n",
      " Test Error 0.023184774\n",
      "\n",
      " Epoch: 9 \t Average Training Error: 0.02106883306259988\n",
      "\n",
      " Test Error 0.022442821\n",
      "\n",
      " Epoch: 10 \t Average Training Error: 0.021590748612652533\n",
      "\n",
      " Test Error 0.021842819\n"
     ]
    }
   ],
   "source": [
    "inputs = 784\n",
    "hidden_layer1_units = 100\n",
    "output_layer_units = inputs\n",
    "epochs = 10\n",
    "batch_size = 256\n",
    "learning_rate = 0.01\n",
    "\n",
    "X_100 = tf.placeholder(tf.float32, shape = [None, inputs]) \n",
    "\n",
    "tf.set_random_seed(42)\n",
    "W_100 = {\n",
    "    'encoder_h1': tf.Variable(tf.random_normal([inputs, hidden_layer1_units])),\n",
    "    'decoder_h1':tf.Variable(tf.random_normal([hidden_layer1_units, output_layer_units]))\n",
    "}\n",
    "\n",
    "B_100 = {\n",
    "    'encoder_h1':tf.Variable(tf.random_normal([hidden_layer1_units])),\n",
    "    'decoder_h1':tf.Variable(tf.random_normal([output_layer_units]))\n",
    "}\n",
    "\n",
    "encoder_100 = tf.matmul(X_100,W_100['encoder_h1']) +  B_100['encoder_h1']\n",
    "encoder_100 = tf.sigmoid(encoder_100) \n",
    "decoder_100 = tf.matmul(encoder_100,W_100['decoder_h1'])  + B_100['decoder_h1']\n",
    "decoder_100 = tf.sigmoid(decoder_100)\n",
    "\n",
    "\n",
    "Y_100 = X_100\n",
    "loss = tf.reduce_mean(tf.pow(decoder_100 - Y_100, 2))\n",
    "optimizer = tf.train.AdamOptimizer(learning_rate=learning_rate).minimize(loss)\n",
    "\n",
    "def get_batches(batch_size,x):\n",
    "        indexes = list(range(x.shape[0]))\n",
    "        random.shuffle(indexes)\n",
    "        ind = indexes[:batch_size]\n",
    "        return(x[ind])\n",
    "    \n",
    "with tf.Session() as sess:\n",
    "    sess.run(tf.global_variables_initializer())\n",
    "    for epoch in range(epochs):\n",
    "        train_c = 0                                                       \n",
    "        total_batch = int(X_train.shape[0]/batch_size)\n",
    "        for i in range(total_batch):\n",
    "            batch_x = get_batches(batch_size, X_train)\n",
    "            _,train_c = sess.run([optimizer, loss], feed_dict = {X_100: batch_x})\n",
    "            train_c += train_c/batch_size\n",
    "        #if epoch % 5 == 0:\n",
    "        print(\"\\n Epoch:\",epoch+1,\"\\t Average Training Error:\",train_c)  \n",
    "        test_c = sess.run(loss,feed_dict = {X_100:X_test})\n",
    "        print(\"\\n Test Error\", test_c)    \n",
    "    encoder_train_100, decoder_train_100 = sess.run([encoder_100,decoder_100],feed_dict = {X_100:X_train})\n",
    "    encoder_test_100, decoder_test_100 = sess.run([encoder_100,decoder_100],feed_dict = {X_100:X_test}) \n"
   ]
  },
  {
   "cell_type": "code",
   "execution_count": 30,
   "metadata": {},
   "outputs": [
    {
     "data": {
      "text/plain": [
       "((55000, 100), (10000, 100))"
      ]
     },
     "execution_count": 30,
     "metadata": {},
     "output_type": "execute_result"
    }
   ],
   "source": [
    "# Hidden Layer \n",
    "encoder_train_100.shape, encoder_test_100.shape"
   ]
  },
  {
   "cell_type": "code",
   "execution_count": 31,
   "metadata": {},
   "outputs": [
    {
     "data": {
      "text/plain": [
       "((55000, 784), (10000, 784))"
      ]
     },
     "execution_count": 31,
     "metadata": {},
     "output_type": "execute_result"
    }
   ],
   "source": [
    "# Reconstructed Inputs\n",
    "decoder_train_100.shape, decoder_test_100.shape"
   ]
  },
  {
   "cell_type": "code",
   "execution_count": 32,
   "metadata": {},
   "outputs": [
    {
     "data": {
      "text/plain": [
       "<matplotlib.image.AxesImage at 0x1e5aeaeba90>"
      ]
     },
     "execution_count": 32,
     "metadata": {},
     "output_type": "execute_result"
    },
    {
     "data": {
      "image/png": "[encoded data removed]",
      "text/plain": [
       "<matplotlib.figure.Figure at 0x1e5ae5526d8>"
      ]
     },
     "metadata": {},
     "output_type": "display_data"
    }
   ],
   "source": [
    "# reconstructing the image from the decoded train data.\n",
    "i = 45\n",
    "plt.subplot(1,2,1)\n",
    "plt.title(\"Original Image\")\n",
    "plt.imshow(X_train[i].reshape(28,28))\n",
    "plt.subplot(1,2,2)\n",
    "plt.title(\" Reconstructed Image from Decoder output\")\n",
    "img = decoder_train_100[i].reshape(28,28)\n",
    "plt.imshow(img)"
   ]
  },
  {
   "cell_type": "code",
   "execution_count": 33,
   "metadata": {},
   "outputs": [
    {
     "data": {
      "text/plain": [
       "<matplotlib.image.AxesImage at 0x1e5ae870b38>"
      ]
     },
     "execution_count": 33,
     "metadata": {},
     "output_type": "execute_result"
    },
    {
     "data": {
      "image/png": "[encoded data removed]",
      "text/plain": [
       "<matplotlib.figure.Figure at 0x1e5aeafe978>"
      ]
     },
     "metadata": {},
     "output_type": "display_data"
    }
   ],
   "source": [
    "# reconstructing the image from the decoded test data.\n",
    "i = 2\n",
    "plt.subplot(1,2,1)\n",
    "plt.title(\"Original Image\")\n",
    "plt.imshow(X_test[i].reshape(28,28))\n",
    "plt.subplot(1,2,2)\n",
    "plt.title(\" Reconstructed Image from Decoder output\")\n",
    "img = decoder_test_100[i].reshape(28,28)\n",
    "plt.imshow(img)"
   ]
  },
  {
   "cell_type": "markdown",
   "metadata": {},
   "source": [
    "#### We can next use the K =100 (reduced dimensions) from the encoder, to build a classifier"
   ]
  },
  {
   "cell_type": "code",
   "execution_count": 34,
   "metadata": {},
   "outputs": [
    {
     "name": "stdout",
     "output_type": "stream",
     "text": [
      "Train Accuracy using Decision Trees: 1.0\n",
      "Test Accuracy using Decision Trees: 0.7545\n"
     ]
    }
   ],
   "source": [
    "clf = tree.DecisionTreeClassifier()\n",
    "clf.fit(encoder_train_100,Y_train)\n",
    "\n",
    "#Accuracy on Train data\n",
    "print(\"Train Accuracy using Decision Trees:\",clf.score(encoder_train_100,Y_train))\n",
    "\n",
    "#Accuracy on Test data\n",
    "print(\"Test Accuracy using Decision Trees:\",clf.score(encoder_test_100,Y_test))"
   ]
  },
  {
   "cell_type": "markdown",
   "metadata": {},
   "source": [
    "## Now, we repeat the above exercise for K = 200"
   ]
  },
  {
   "cell_type": "code",
   "execution_count": 35,
   "metadata": {},
   "outputs": [
    {
     "name": "stdout",
     "output_type": "stream",
     "text": [
      "\n",
      " Epoch: 1 \t Average Training Error: 0.07428983386489563\n",
      "\n",
      " Test Error 0.07180971\n",
      "\n",
      " Epoch: 2 \t Average Training Error: 0.0635019822511822\n",
      "\n",
      " Test Error 0.061242238\n",
      "\n",
      " Epoch: 3 \t Average Training Error: 0.05266075560939498\n",
      "\n",
      " Test Error 0.05460628\n",
      "\n",
      " Epoch: 4 \t Average Training Error: 0.04862844277522527\n",
      "\n",
      " Test Error 0.04988101\n",
      "\n",
      " Epoch: 5 \t Average Training Error: 0.04701777875015978\n",
      "\n",
      " Test Error 0.047562387\n",
      "\n",
      " Epoch: 6 \t Average Training Error: 0.04516350888297893\n",
      "\n",
      " Test Error 0.045451958\n",
      "\n",
      " Epoch: 7 \t Average Training Error: 0.03902670455863699\n",
      "\n",
      " Test Error 0.043929137\n",
      "\n",
      " Epoch: 8 \t Average Training Error: 0.041265759311500005\n",
      "\n",
      " Test Error 0.041855425\n",
      "\n",
      " Epoch: 9 \t Average Training Error: 0.041748778632609174\n",
      "\n",
      " Test Error 0.0402145\n",
      "\n",
      " Epoch: 10 \t Average Training Error: 0.03573997788771521\n",
      "\n",
      " Test Error 0.039035708\n",
      "\n",
      " Epoch: 11 \t Average Training Error: 0.0360916876088595\n",
      "\n",
      " Test Error 0.037401214\n",
      "\n",
      " Epoch: 12 \t Average Training Error: 0.03427004412515089\n",
      "\n",
      " Test Error 0.036352064\n",
      "\n",
      " Epoch: 13 \t Average Training Error: 0.035363248622161336\n",
      "\n",
      " Test Error 0.034820024\n",
      "\n",
      " Epoch: 14 \t Average Training Error: 0.03489129923400469\n",
      "\n",
      " Test Error 0.034269165\n",
      "\n",
      " Epoch: 15 \t Average Training Error: 0.03222635124984663\n",
      "\n",
      " Test Error 0.033645783\n",
      "\n",
      " Epoch: 16 \t Average Training Error: 0.03513241434120573\n",
      "\n",
      " Test Error 0.033256974\n",
      "\n",
      " Epoch: 17 \t Average Training Error: 0.031261384072422516\n",
      "\n",
      " Test Error 0.032501537\n",
      "\n",
      " Epoch: 18 \t Average Training Error: 0.031199493423628155\n",
      "\n",
      " Test Error 0.032187458\n",
      "\n",
      " Epoch: 19 \t Average Training Error: 0.029727843073487747\n",
      "\n",
      " Test Error 0.031760413\n",
      "\n",
      " Epoch: 20 \t Average Training Error: 0.03126549415901536\n",
      "\n",
      " Test Error 0.031220658\n"
     ]
    }
   ],
   "source": [
    "inputs = 784\n",
    "hidden_layer1_units = 200\n",
    "output_layer_units = inputs\n",
    "epochs = 20\n",
    "batch_size = 256\n",
    "learning_rate = 0.01\n",
    "\n",
    "X_200 = tf.placeholder(tf.float32, shape = [None, inputs]) \n",
    "\n",
    "tf.set_random_seed(42)\n",
    "W_200 = {\n",
    "    'encoder_h1': tf.Variable(tf.random_normal([inputs, hidden_layer1_units])),\n",
    "    'decoder_h1':tf.Variable(tf.random_normal([hidden_layer1_units, output_layer_units]))\n",
    "}\n",
    "\n",
    "B_200 = {\n",
    "    'encoder_h1':tf.Variable(tf.random_normal([hidden_layer1_units])),\n",
    "    'decoder_h1':tf.Variable(tf.random_normal([output_layer_units]))\n",
    "}\n",
    "\n",
    "encoder_200 = tf.matmul(X_200,W_200['encoder_h1']) +  B_200['encoder_h1']\n",
    "encoder_200 = tf.sigmoid(encoder_200) \n",
    "decoder_200 = tf.matmul(encoder_200,W_200['decoder_h1'])  + B_200['decoder_h1']\n",
    "decoder_200 = tf.sigmoid(decoder_200) \n",
    "\n",
    "\n",
    "Y_200 = X_200\n",
    "loss = tf.reduce_mean(tf.pow(decoder_200 - Y_200, 2))\n",
    "optimizer = tf.train.AdamOptimizer(learning_rate=learning_rate).minimize(loss)\n",
    "\n",
    "def get_batches(batch_size,x):\n",
    "        indexes = list(range(x.shape[0]))\n",
    "        random.shuffle(indexes)\n",
    "        ind = indexes[:batch_size]\n",
    "        return(x[ind])\n",
    "    \n",
    "with tf.Session() as sess:\n",
    "    sess.run(tf.global_variables_initializer())\n",
    "    for epoch in range(epochs):\n",
    "        train_c = 0                                                       \n",
    "        total_batch = int(X_train.shape[0]/batch_size)\n",
    "        for i in range(total_batch):\n",
    "            batch_x = get_batches(batch_size, X_train)\n",
    "            _,train_c = sess.run([optimizer, loss], feed_dict = {X_200: batch_x})\n",
    "            train_c += train_c/batch_size\n",
    "        #if epoch % 5 == 0:\n",
    "        print(\"\\n Epoch:\",epoch+1,\"\\t Average Training Error:\",train_c)  \n",
    "        test_c = sess.run(loss,feed_dict = {X_200:X_test})\n",
    "        print(\"\\n Test Error\", test_c)    \n",
    "    encoder_train_200, decoder_train_200 = sess.run([encoder_200,decoder_200],feed_dict = {X_200:X_train})\n",
    "    encoder_test_200, decoder_test_200 = sess.run([encoder_200,decoder_200],feed_dict = {X_200:X_test}) \n"
   ]
  },
  {
   "cell_type": "code",
   "execution_count": 36,
   "metadata": {},
   "outputs": [
    {
     "data": {
      "text/plain": [
       "((55000, 200), (10000, 200))"
      ]
     },
     "execution_count": 36,
     "metadata": {},
     "output_type": "execute_result"
    }
   ],
   "source": [
    "# Hidden Layer \n",
    "encoder_train_200.shape, encoder_test_200.shape"
   ]
  },
  {
   "cell_type": "code",
   "execution_count": 37,
   "metadata": {},
   "outputs": [
    {
     "data": {
      "text/plain": [
       "((55000, 784), (10000, 784))"
      ]
     },
     "execution_count": 37,
     "metadata": {},
     "output_type": "execute_result"
    }
   ],
   "source": [
    "# Reconstructed Inputs\n",
    "decoder_train_200.shape, decoder_test_200.shape"
   ]
  },
  {
   "cell_type": "code",
   "execution_count": 38,
   "metadata": {},
   "outputs": [
    {
     "data": {
      "text/plain": [
       "<matplotlib.image.AxesImage at 0x1e5af5234e0>"
      ]
     },
     "execution_count": 38,
     "metadata": {},
     "output_type": "execute_result"
    },
    {
     "data": {
      "image/png": "[encoded data removed]",
      "text/plain": [
       "<matplotlib.figure.Figure at 0x1e5ae846dd8>"
      ]
     },
     "metadata": {},
     "output_type": "display_data"
    }
   ],
   "source": [
    "# reconstructing the image from the decoded train data.\n",
    "i = 45\n",
    "plt.subplot(1,2,1)\n",
    "plt.title(\"Original Image\")\n",
    "plt.imshow(X_train[i].reshape(28,28))\n",
    "plt.subplot(1,2,2)\n",
    "plt.title(\" Reconstructed Image from Decoder output\")\n",
    "img = decoder_train_200[i].reshape(28,28)\n",
    "plt.imshow(img)"
   ]
  },
  {
   "cell_type": "code",
   "execution_count": 39,
   "metadata": {},
   "outputs": [
    {
     "data": {
      "text/plain": [
       "<matplotlib.image.AxesImage at 0x1e5aebd7518>"
      ]
     },
     "execution_count": 39,
     "metadata": {},
     "output_type": "execute_result"
    },
    {
     "data": {
      "image/png": "[encoded data removed]",
      "text/plain": [
       "<matplotlib.figure.Figure at 0x1e5af525f60>"
      ]
     },
     "metadata": {},
     "output_type": "display_data"
    }
   ],
   "source": [
    "# reconstructing the image from the decoded test data.\n",
    "i = 2\n",
    "plt.subplot(1,2,1)\n",
    "plt.title(\"Original Image\")\n",
    "plt.imshow(X_test[i].reshape(28,28))\n",
    "plt.subplot(1,2,2)\n",
    "plt.title(\" Reconstructed Image from Decoder output\")\n",
    "img = decoder_test_200[i].reshape(28,28)\n",
    "plt.imshow(img)"
   ]
  },
  {
   "cell_type": "markdown",
   "metadata": {},
   "source": [
    "#### We can next use the K = 200 (reduced dimensions) from the encoder, to build a classifier"
   ]
  },
  {
   "cell_type": "code",
   "execution_count": 40,
   "metadata": {},
   "outputs": [
    {
     "name": "stdout",
     "output_type": "stream",
     "text": [
      "Train Accuracy using Decision Trees: 1.0\n",
      "Test Accuracy using Decision Trees: 0.7524\n"
     ]
    }
   ],
   "source": [
    "clf = tree.DecisionTreeClassifier()\n",
    "clf.fit(encoder_train_200,Y_train)\n",
    "\n",
    "#Accuracy on Train data\n",
    "print(\"Train Accuracy using Decision Trees:\",clf.score(encoder_train_200,Y_train))\n",
    "\n",
    "#Accuracy on Test data\n",
    "print(\"Test Accuracy using Decision Trees:\",clf.score(encoder_test_200,Y_test))"
   ]
  }
 ],
 "metadata": {
  "kernelspec": {
   "display_name": "Python 3",
   "language": "python",
   "name": "python3"
  },
  "language_info": {
   "codemirror_mode": {
    "name": "ipython",
    "version": 3
   },
   "file_extension": ".py",
   "mimetype": "text/x-python",
   "name": "python",
   "nbconvert_exporter": "python",
   "pygments_lexer": "ipython3",
   "version": "3.6.3"
  }
 },
 "nbformat": 4,
 "nbformat_minor": 2
}
